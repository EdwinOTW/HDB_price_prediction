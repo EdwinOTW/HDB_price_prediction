{
 "cells": [
  {
   "cell_type": "markdown",
   "metadata": {},
   "source": [
    "# Geospatial Data Visualization"
   ]
  },
  {
   "cell_type": "markdown",
   "metadata": {},
   "source": [
    "I have been tasked to use geospatial visualization tools to create a choropleth map to illustrate how prices for a 4-Room HDB resale flat vary across different areas of Singapore. Using the map, provide a description of the possible association between HDB resale prices and distance to the CBD.\n"
   ]
  },
  {
   "cell_type": "code",
   "execution_count": 1,
   "metadata": {},
   "outputs": [],
   "source": [
    "import pandas as pd\n",
    "import matplotlib.pyplot as plt\n",
    "import descartes\n",
    "import geopandas as gpd\n",
    "from shapely.geometry import Point, Polygon\n",
    "\n",
    "%matplotlib inline"
   ]
  },
  {
   "cell_type": "markdown",
   "metadata": {},
   "source": [
    "# Import Data"
   ]
  },
  {
   "cell_type": "code",
   "execution_count": 2,
   "metadata": {},
   "outputs": [],
   "source": [
    "# Importing Housing Dataset\n",
    "df = pd.read_csv(\"../datasets/resale-flat-prices/clean_resale_price.csv\")"
   ]
  },
  {
   "cell_type": "code",
   "execution_count": 3,
   "metadata": {},
   "outputs": [],
   "source": [
    "# Importing Singapore Map SHP file\n",
    "sg = gpd.read_file('../datasets/master-plan-2014-planning-area-boundary-no-sea-shp/MP14_PLNG_AREA_NO_SEA_PL.shp')"
   ]
  },
  {
   "cell_type": "markdown",
   "metadata": {},
   "source": [
    "# Prepare Data for Visualization"
   ]
  },
  {
   "cell_type": "code",
   "execution_count": 4,
   "metadata": {},
   "outputs": [
    {
     "data": {
      "text/plain": [
       "(300361, 19)"
      ]
     },
     "execution_count": 4,
     "metadata": {},
     "output_type": "execute_result"
    }
   ],
   "source": [
    "# Filter to Only 4 Room Flats\n",
    "df = df[df['flat_type'] == '4 ROOM']\n",
    "df.shape"
   ]
  },
  {
   "cell_type": "markdown",
   "metadata": {},
   "source": [
    "Filter to 2019 data as that is the most recent to current time. Hence, it will produce the most comparable resale prices. And the median value wouldnt be affected by prices from the distant past as prices in the past is alot cheaper."
   ]
  },
  {
   "cell_type": "code",
   "execution_count": 5,
   "metadata": {},
   "outputs": [],
   "source": [
    "# Set Month as index\n",
    "df['month']= pd.to_datetime(df['month'])\n",
    "df.set_index('month', drop= True, inplace= True)"
   ]
  },
  {
   "cell_type": "code",
   "execution_count": 6,
   "metadata": {},
   "outputs": [],
   "source": [
    "# Filter to 2019\n",
    "df = df['2019'].copy()"
   ]
  },
  {
   "cell_type": "markdown",
   "metadata": {},
   "source": [
    "# Check Data"
   ]
  },
  {
   "cell_type": "code",
   "execution_count": 7,
   "metadata": {},
   "outputs": [
    {
     "data": {
      "text/html": [
       "<div>\n",
       "<style scoped>\n",
       "    .dataframe tbody tr th:only-of-type {\n",
       "        vertical-align: middle;\n",
       "    }\n",
       "\n",
       "    .dataframe tbody tr th {\n",
       "        vertical-align: top;\n",
       "    }\n",
       "\n",
       "    .dataframe thead th {\n",
       "        text-align: right;\n",
       "    }\n",
       "</style>\n",
       "<table border=\"1\" class=\"dataframe\">\n",
       "  <thead>\n",
       "    <tr style=\"text-align: right;\">\n",
       "      <th></th>\n",
       "      <th>OBJECTID</th>\n",
       "      <th>PLN_AREA_N</th>\n",
       "      <th>PLN_AREA_C</th>\n",
       "      <th>CA_IND</th>\n",
       "      <th>REGION_N</th>\n",
       "      <th>REGION_C</th>\n",
       "      <th>INC_CRC</th>\n",
       "      <th>FMEL_UPD_D</th>\n",
       "      <th>X_ADDR</th>\n",
       "      <th>Y_ADDR</th>\n",
       "      <th>SHAPE_Leng</th>\n",
       "      <th>SHAPE_Area</th>\n",
       "      <th>geometry</th>\n",
       "    </tr>\n",
       "  </thead>\n",
       "  <tbody>\n",
       "    <tr>\n",
       "      <th>0</th>\n",
       "      <td>1</td>\n",
       "      <td>ANG MO KIO</td>\n",
       "      <td>AM</td>\n",
       "      <td>N</td>\n",
       "      <td>NORTH-EAST REGION</td>\n",
       "      <td>NER</td>\n",
       "      <td>E5CBDDE0C2113055</td>\n",
       "      <td>2016-05-11</td>\n",
       "      <td>28976.8763</td>\n",
       "      <td>40229.1238</td>\n",
       "      <td>17494.240190</td>\n",
       "      <td>1.394138e+07</td>\n",
       "      <td>POLYGON ((30658.500 42047.527, 30679.195 42020...</td>\n",
       "    </tr>\n",
       "    <tr>\n",
       "      <th>1</th>\n",
       "      <td>2</td>\n",
       "      <td>BEDOK</td>\n",
       "      <td>BD</td>\n",
       "      <td>N</td>\n",
       "      <td>EAST REGION</td>\n",
       "      <td>ER</td>\n",
       "      <td>1719251260799DF6</td>\n",
       "      <td>2016-05-11</td>\n",
       "      <td>38582.6650</td>\n",
       "      <td>34032.0961</td>\n",
       "      <td>21872.798962</td>\n",
       "      <td>2.173319e+07</td>\n",
       "      <td>POLYGON ((38974.269 36138.243, 39371.471 35747...</td>\n",
       "    </tr>\n",
       "    <tr>\n",
       "      <th>2</th>\n",
       "      <td>3</td>\n",
       "      <td>BISHAN</td>\n",
       "      <td>BS</td>\n",
       "      <td>N</td>\n",
       "      <td>CENTRAL REGION</td>\n",
       "      <td>CR</td>\n",
       "      <td>BA616285F402846F</td>\n",
       "      <td>2016-05-11</td>\n",
       "      <td>28789.7630</td>\n",
       "      <td>37450.8865</td>\n",
       "      <td>13517.121556</td>\n",
       "      <td>7.618921e+06</td>\n",
       "      <td>POLYGON ((29772.191 38311.805, 29784.826 38304...</td>\n",
       "    </tr>\n",
       "    <tr>\n",
       "      <th>3</th>\n",
       "      <td>4</td>\n",
       "      <td>BOON LAY</td>\n",
       "      <td>BL</td>\n",
       "      <td>N</td>\n",
       "      <td>WEST REGION</td>\n",
       "      <td>WR</td>\n",
       "      <td>A3DC87118B43CDED</td>\n",
       "      <td>2016-05-11</td>\n",
       "      <td>13410.3824</td>\n",
       "      <td>33008.9884</td>\n",
       "      <td>18528.467448</td>\n",
       "      <td>8.279408e+06</td>\n",
       "      <td>POLYGON ((12861.383 32207.492, 12860.555 32208...</td>\n",
       "    </tr>\n",
       "    <tr>\n",
       "      <th>4</th>\n",
       "      <td>5</td>\n",
       "      <td>BUKIT BATOK</td>\n",
       "      <td>BK</td>\n",
       "      <td>N</td>\n",
       "      <td>WEST REGION</td>\n",
       "      <td>WR</td>\n",
       "      <td>FB44C870B04B7F57</td>\n",
       "      <td>2016-05-11</td>\n",
       "      <td>19255.4150</td>\n",
       "      <td>37527.6527</td>\n",
       "      <td>15234.223423</td>\n",
       "      <td>1.113326e+07</td>\n",
       "      <td>POLYGON ((20294.455 39114.528, 20334.318 39054...</td>\n",
       "    </tr>\n",
       "  </tbody>\n",
       "</table>\n",
       "</div>"
      ],
      "text/plain": [
       "   OBJECTID   PLN_AREA_N PLN_AREA_C CA_IND           REGION_N REGION_C  \\\n",
       "0         1   ANG MO KIO         AM      N  NORTH-EAST REGION      NER   \n",
       "1         2        BEDOK         BD      N        EAST REGION       ER   \n",
       "2         3       BISHAN         BS      N     CENTRAL REGION       CR   \n",
       "3         4     BOON LAY         BL      N        WEST REGION       WR   \n",
       "4         5  BUKIT BATOK         BK      N        WEST REGION       WR   \n",
       "\n",
       "            INC_CRC  FMEL_UPD_D      X_ADDR      Y_ADDR    SHAPE_Leng  \\\n",
       "0  E5CBDDE0C2113055  2016-05-11  28976.8763  40229.1238  17494.240190   \n",
       "1  1719251260799DF6  2016-05-11  38582.6650  34032.0961  21872.798962   \n",
       "2  BA616285F402846F  2016-05-11  28789.7630  37450.8865  13517.121556   \n",
       "3  A3DC87118B43CDED  2016-05-11  13410.3824  33008.9884  18528.467448   \n",
       "4  FB44C870B04B7F57  2016-05-11  19255.4150  37527.6527  15234.223423   \n",
       "\n",
       "     SHAPE_Area                                           geometry  \n",
       "0  1.394138e+07  POLYGON ((30658.500 42047.527, 30679.195 42020...  \n",
       "1  2.173319e+07  POLYGON ((38974.269 36138.243, 39371.471 35747...  \n",
       "2  7.618921e+06  POLYGON ((29772.191 38311.805, 29784.826 38304...  \n",
       "3  8.279408e+06  POLYGON ((12861.383 32207.492, 12860.555 32208...  \n",
       "4  1.113326e+07  POLYGON ((20294.455 39114.528, 20334.318 39054...  "
      ]
     },
     "execution_count": 7,
     "metadata": {},
     "output_type": "execute_result"
    }
   ],
   "source": [
    "sg.head()"
   ]
  },
  {
   "cell_type": "code",
   "execution_count": 8,
   "metadata": {},
   "outputs": [
    {
     "data": {
      "text/html": [
       "<div>\n",
       "<style scoped>\n",
       "    .dataframe tbody tr th:only-of-type {\n",
       "        vertical-align: middle;\n",
       "    }\n",
       "\n",
       "    .dataframe tbody tr th {\n",
       "        vertical-align: top;\n",
       "    }\n",
       "\n",
       "    .dataframe thead th {\n",
       "        text-align: right;\n",
       "    }\n",
       "</style>\n",
       "<table border=\"1\" class=\"dataframe\">\n",
       "  <thead>\n",
       "    <tr style=\"text-align: right;\">\n",
       "      <th></th>\n",
       "      <th>block</th>\n",
       "      <th>flat_model</th>\n",
       "      <th>flat_type</th>\n",
       "      <th>floor_area_sqm</th>\n",
       "      <th>latitude</th>\n",
       "      <th>lease_commence_date</th>\n",
       "      <th>longtitude</th>\n",
       "      <th>remaining_lease</th>\n",
       "      <th>resale_price</th>\n",
       "      <th>storey_range</th>\n",
       "      <th>street_name</th>\n",
       "      <th>town</th>\n",
       "      <th>mrt_lat</th>\n",
       "      <th>mrt_long</th>\n",
       "      <th>dist_mrt</th>\n",
       "      <th>dist_cbd</th>\n",
       "      <th>dist_ap</th>\n",
       "      <th>mature</th>\n",
       "    </tr>\n",
       "    <tr>\n",
       "      <th>month</th>\n",
       "      <th></th>\n",
       "      <th></th>\n",
       "      <th></th>\n",
       "      <th></th>\n",
       "      <th></th>\n",
       "      <th></th>\n",
       "      <th></th>\n",
       "      <th></th>\n",
       "      <th></th>\n",
       "      <th></th>\n",
       "      <th></th>\n",
       "      <th></th>\n",
       "      <th></th>\n",
       "      <th></th>\n",
       "      <th></th>\n",
       "      <th></th>\n",
       "      <th></th>\n",
       "      <th></th>\n",
       "    </tr>\n",
       "  </thead>\n",
       "  <tbody>\n",
       "    <tr>\n",
       "      <th>2019-01-01</th>\n",
       "      <td>335</td>\n",
       "      <td>NEW GENERATION</td>\n",
       "      <td>4 ROOM</td>\n",
       "      <td>91.0</td>\n",
       "      <td>1.363210</td>\n",
       "      <td>1982</td>\n",
       "      <td>103.850691</td>\n",
       "      <td>61</td>\n",
       "      <td>428000.0</td>\n",
       "      <td>04 TO 06</td>\n",
       "      <td>ANG MO KIO AVE 1</td>\n",
       "      <td>ANG MO KIO</td>\n",
       "      <td>1.369429</td>\n",
       "      <td>103.849455</td>\n",
       "      <td>0.704981</td>\n",
       "      <td>8.815586</td>\n",
       "      <td>15.264171</td>\n",
       "      <td>1</td>\n",
       "    </tr>\n",
       "    <tr>\n",
       "      <th>2019-01-01</th>\n",
       "      <td>205</td>\n",
       "      <td>NEW GENERATION</td>\n",
       "      <td>4 ROOM</td>\n",
       "      <td>98.0</td>\n",
       "      <td>1.366941</td>\n",
       "      <td>1977</td>\n",
       "      <td>103.843582</td>\n",
       "      <td>56</td>\n",
       "      <td>408000.0</td>\n",
       "      <td>07 TO 09</td>\n",
       "      <td>ANG MO KIO AVE 1</td>\n",
       "      <td>ANG MO KIO</td>\n",
       "      <td>1.369429</td>\n",
       "      <td>103.849455</td>\n",
       "      <td>0.709023</td>\n",
       "      <td>9.271503</td>\n",
       "      <td>16.075486</td>\n",
       "      <td>1</td>\n",
       "    </tr>\n",
       "    <tr>\n",
       "      <th>2019-01-01</th>\n",
       "      <td>310C</td>\n",
       "      <td>MODEL A</td>\n",
       "      <td>4 ROOM</td>\n",
       "      <td>94.0</td>\n",
       "      <td>1.364609</td>\n",
       "      <td>2012</td>\n",
       "      <td>103.844855</td>\n",
       "      <td>91</td>\n",
       "      <td>500000.0</td>\n",
       "      <td>04 TO 06</td>\n",
       "      <td>ANG MO KIO AVE 1</td>\n",
       "      <td>ANG MO KIO</td>\n",
       "      <td>1.369429</td>\n",
       "      <td>103.849455</td>\n",
       "      <td>0.740810</td>\n",
       "      <td>9.000716</td>\n",
       "      <td>15.919362</td>\n",
       "      <td>1</td>\n",
       "    </tr>\n",
       "    <tr>\n",
       "      <th>2019-01-01</th>\n",
       "      <td>310B</td>\n",
       "      <td>MODEL A</td>\n",
       "      <td>4 ROOM</td>\n",
       "      <td>96.0</td>\n",
       "      <td>1.364643</td>\n",
       "      <td>2012</td>\n",
       "      <td>103.844257</td>\n",
       "      <td>91</td>\n",
       "      <td>750000.0</td>\n",
       "      <td>25 TO 27</td>\n",
       "      <td>ANG MO KIO AVE 1</td>\n",
       "      <td>ANG MO KIO</td>\n",
       "      <td>1.369429</td>\n",
       "      <td>103.849455</td>\n",
       "      <td>0.785557</td>\n",
       "      <td>9.010221</td>\n",
       "      <td>15.985947</td>\n",
       "      <td>1</td>\n",
       "    </tr>\n",
       "    <tr>\n",
       "      <th>2019-01-01</th>\n",
       "      <td>543</td>\n",
       "      <td>NEW GENERATION</td>\n",
       "      <td>4 ROOM</td>\n",
       "      <td>92.0</td>\n",
       "      <td>1.374301</td>\n",
       "      <td>1981</td>\n",
       "      <td>103.856236</td>\n",
       "      <td>60</td>\n",
       "      <td>370000.0</td>\n",
       "      <td>01 TO 03</td>\n",
       "      <td>ANG MO KIO AVE 10</td>\n",
       "      <td>ANG MO KIO</td>\n",
       "      <td>1.369429</td>\n",
       "      <td>103.849455</td>\n",
       "      <td>0.928257</td>\n",
       "      <td>10.062446</td>\n",
       "      <td>14.753489</td>\n",
       "      <td>1</td>\n",
       "    </tr>\n",
       "  </tbody>\n",
       "</table>\n",
       "</div>"
      ],
      "text/plain": [
       "           block      flat_model flat_type  floor_area_sqm  latitude  \\\n",
       "month                                                                  \n",
       "2019-01-01   335  NEW GENERATION    4 ROOM            91.0  1.363210   \n",
       "2019-01-01   205  NEW GENERATION    4 ROOM            98.0  1.366941   \n",
       "2019-01-01  310C         MODEL A    4 ROOM            94.0  1.364609   \n",
       "2019-01-01  310B         MODEL A    4 ROOM            96.0  1.364643   \n",
       "2019-01-01   543  NEW GENERATION    4 ROOM            92.0  1.374301   \n",
       "\n",
       "            lease_commence_date  longtitude  remaining_lease  resale_price  \\\n",
       "month                                                                        \n",
       "2019-01-01                 1982  103.850691               61      428000.0   \n",
       "2019-01-01                 1977  103.843582               56      408000.0   \n",
       "2019-01-01                 2012  103.844855               91      500000.0   \n",
       "2019-01-01                 2012  103.844257               91      750000.0   \n",
       "2019-01-01                 1981  103.856236               60      370000.0   \n",
       "\n",
       "           storey_range        street_name        town   mrt_lat    mrt_long  \\\n",
       "month                                                                          \n",
       "2019-01-01     04 TO 06   ANG MO KIO AVE 1  ANG MO KIO  1.369429  103.849455   \n",
       "2019-01-01     07 TO 09   ANG MO KIO AVE 1  ANG MO KIO  1.369429  103.849455   \n",
       "2019-01-01     04 TO 06   ANG MO KIO AVE 1  ANG MO KIO  1.369429  103.849455   \n",
       "2019-01-01     25 TO 27   ANG MO KIO AVE 1  ANG MO KIO  1.369429  103.849455   \n",
       "2019-01-01     01 TO 03  ANG MO KIO AVE 10  ANG MO KIO  1.369429  103.849455   \n",
       "\n",
       "            dist_mrt   dist_cbd    dist_ap  mature  \n",
       "month                                               \n",
       "2019-01-01  0.704981   8.815586  15.264171       1  \n",
       "2019-01-01  0.709023   9.271503  16.075486       1  \n",
       "2019-01-01  0.740810   9.000716  15.919362       1  \n",
       "2019-01-01  0.785557   9.010221  15.985947       1  \n",
       "2019-01-01  0.928257  10.062446  14.753489       1  "
      ]
     },
     "execution_count": 8,
     "metadata": {},
     "output_type": "execute_result"
    }
   ],
   "source": [
    "df.head()"
   ]
  },
  {
   "cell_type": "code",
   "execution_count": 9,
   "metadata": {},
   "outputs": [
    {
     "data": {
      "text/plain": [
       "array(['ANG MO KIO', 'BEDOK', 'BISHAN', 'BOON LAY', 'BUKIT BATOK',\n",
       "       'BUKIT MERAH', 'BUKIT PANJANG', 'BUKIT TIMAH', 'GEYLANG',\n",
       "       'KALLANG', 'NOVENA', 'PASIR RIS', 'HOUGANG', 'JURONG EAST',\n",
       "       'LIM CHU KANG', 'MANDAI', 'MARINE PARADE', 'NORTH-EASTERN ISLANDS',\n",
       "       'PIONEER', 'JURONG WEST', 'PAYA LEBAR', 'PUNGGOL', 'QUEENSTOWN',\n",
       "       'SELETAR', 'SEMBAWANG', 'SENGKANG', 'SERANGOON',\n",
       "       'CENTRAL WATER CATCHMENT', 'CHANGI', 'SUNGEI KADUT', 'TAMPINES',\n",
       "       'DOWNTOWN CORE', 'TANGLIN', 'TENGAH', 'TOA PAYOH', 'MARINA EAST',\n",
       "       'WOODLANDS', 'MARINA SOUTH', 'MUSEUM', 'NEWTON', 'CHANGI BAY',\n",
       "       'CHOA CHU KANG', 'CLEMENTI', 'SINGAPORE RIVER', 'STRAITS VIEW',\n",
       "       'SIMPANG', 'SOUTHERN ISLANDS', 'TUAS', 'WESTERN ISLANDS',\n",
       "       'WESTERN WATER CATCHMENT', 'YISHUN', 'ORCHARD', 'OUTRAM',\n",
       "       'RIVER VALLEY', 'ROCHOR'], dtype=object)"
      ]
     },
     "execution_count": 9,
     "metadata": {},
     "output_type": "execute_result"
    }
   ],
   "source": [
    "sg['PLN_AREA_N'].unique()"
   ]
  },
  {
   "cell_type": "code",
   "execution_count": 10,
   "metadata": {},
   "outputs": [
    {
     "data": {
      "text/plain": [
       "array(['ANG MO KIO', 'BEDOK', 'BISHAN', 'BUKIT BATOK', 'BUKIT MERAH',\n",
       "       'BUKIT PANJANG', 'BUKIT TIMAH', 'CENTRAL AREA', 'CHOA CHU KANG',\n",
       "       'CLEMENTI', 'GEYLANG', 'HOUGANG', 'JURONG EAST', 'JURONG WEST',\n",
       "       'KALLANG/WHAMPOA', 'MARINE PARADE', 'PASIR RIS', 'PUNGGOL',\n",
       "       'QUEENSTOWN', 'SEMBAWANG', 'SENGKANG', 'SERANGOON', 'TAMPINES',\n",
       "       'TOA PAYOH', 'WOODLANDS', 'YISHUN'], dtype=object)"
      ]
     },
     "execution_count": 10,
     "metadata": {},
     "output_type": "execute_result"
    }
   ],
   "source": [
    "df['town'].unique()"
   ]
  },
  {
   "cell_type": "code",
   "execution_count": 11,
   "metadata": {},
   "outputs": [
    {
     "data": {
      "text/plain": [
       "array(['CANTONMENT RD', 'KLANG LANE', 'KRETA AYER RD', 'VEERASAMY RD',\n",
       "       'BUFFALO RD', 'CHANDER RD', 'TG PAGAR PLAZA', 'WATERLOO ST',\n",
       "       'QUEEN ST', 'ROWELL RD', 'BAIN ST', 'CHIN SWEE RD', 'JLN BERSEH',\n",
       "       'SMITH ST'], dtype=object)"
      ]
     },
     "execution_count": 11,
     "metadata": {},
     "output_type": "execute_result"
    }
   ],
   "source": [
    "df[df['town']== 'CENTRAL AREA']['street_name'].unique()"
   ]
  },
  {
   "cell_type": "markdown",
   "metadata": {},
   "source": [
    "## Convert town in central area from df to names in PLN_AREA_N. "
   ]
  },
  {
   "cell_type": "markdown",
   "metadata": {},
   "source": [
    "- Cantonment rd = downtown core\n",
    "- klang lane = kallang\n",
    "- kreta ayer rd = downtown core\n",
    "- veerasamy rd = kallang\n",
    "- buffalo rd = rochor\n",
    "- chander rd = rochor\n",
    "- tg pagar plaza = downtown core\n",
    "- waterloo st = downtown core\n",
    "- queen st = downtown core\n",
    "- rowell rd = kallang\n",
    "- bain st = downtown core\n",
    "- chin swee rd = outram\n",
    "- jln berseh = kallang\n",
    "- smith st = downtown core\n",
    "- kallang/whampoa = kallang"
   ]
  },
  {
   "cell_type": "code",
   "execution_count": 12,
   "metadata": {},
   "outputs": [],
   "source": [
    "# Standardize Column\n",
    "df.loc[(df['street_name'] == 'CANTONMENT RD'), 'town'] = 'DOWNTOWN CORE'\n",
    "df.loc[(df['street_name'] == 'KRETA AYER RD'), 'town'] = 'DOWNTOWN CORE'\n",
    "df.loc[(df['street_name'] == 'TG PAGAR PLAZA'), 'town'] = 'DOWNTOWN CORE'\n",
    "df.loc[(df['street_name'] == 'WATERLOO ST'), 'town'] = 'DOWNTOWN CORE'\n",
    "df.loc[(df['street_name'] == 'QUEEN ST'), 'town'] = 'DOWNTOWN CORE'\n",
    "df.loc[(df['street_name'] == 'BAIN ST'), 'town'] = 'DOWNTOWN CORE'\n",
    "df.loc[(df['street_name'] == 'SMITH ST'), 'town'] = 'DOWNTOWN CORE'\n",
    "df.loc[(df['street_name'] == 'KLANG LANE'), 'town'] = 'KALLANG'\n",
    "df.loc[(df['street_name'] == 'VEERASAMY RD'), 'town'] = 'KALLANG'\n",
    "df.loc[(df['street_name'] == 'ROWELL RD'), 'town'] = 'KALLANG'\n",
    "df.loc[(df['street_name'] == 'JLN BERSEH'), 'town'] = 'KALLANG'\n",
    "df.loc[(df['street_name'] == 'KALLANG/WHAMPOA'), 'town'] = 'KALLANG'\n",
    "df.loc[(df['street_name'] == 'BUFFALO RD'), 'town'] = 'ROCHER'\n",
    "df.loc[(df['street_name'] == 'CHANDER RD'), 'town'] = 'ROCHER'\n",
    "df.loc[(df['street_name'] == 'CHIN SWEE RD'), 'town'] = 'OUTRAM'"
   ]
  },
  {
   "cell_type": "code",
   "execution_count": 13,
   "metadata": {},
   "outputs": [],
   "source": [
    "# Groupby town\n",
    "df_g = df.groupby('town').median()"
   ]
  },
  {
   "cell_type": "markdown",
   "metadata": {},
   "source": [
    "## Combine DataFrame"
   ]
  },
  {
   "cell_type": "code",
   "execution_count": 15,
   "metadata": {},
   "outputs": [],
   "source": [
    "map_plot = sg.merge(df_g, left_on = 'PLN_AREA_N', right_on = 'town', how = 'left')"
   ]
  },
  {
   "cell_type": "code",
   "execution_count": 16,
   "metadata": {},
   "outputs": [
    {
     "data": {
      "text/plain": [
       "Index(['OBJECTID', 'PLN_AREA_N', 'PLN_AREA_C', 'CA_IND', 'REGION_N',\n",
       "       'REGION_C', 'INC_CRC', 'FMEL_UPD_D', 'X_ADDR', 'Y_ADDR', 'SHAPE_Leng',\n",
       "       'SHAPE_Area', 'geometry', 'floor_area_sqm', 'latitude',\n",
       "       'lease_commence_date', 'longtitude', 'remaining_lease', 'resale_price',\n",
       "       'mrt_lat', 'mrt_long', 'dist_mrt', 'dist_cbd', 'dist_ap', 'mature'],\n",
       "      dtype='object')"
      ]
     },
     "execution_count": 16,
     "metadata": {},
     "output_type": "execute_result"
    }
   ],
   "source": [
    "map_plot.columns"
   ]
  },
  {
   "cell_type": "markdown",
   "metadata": {},
   "source": [
    "# Plot Map"
   ]
  },
  {
   "cell_type": "code",
   "execution_count": 17,
   "metadata": {},
   "outputs": [
    {
     "name": "stderr",
     "output_type": "stream",
     "text": [
      "/Users/edwinotw/anaconda3/lib/python3.7/site-packages/matplotlib/colors.py:512: RuntimeWarning: invalid value encountered in less\n",
      "  xa[xa < 0] = -1\n"
     ]
    },
    {
     "data": {
      "image/png": "[encoded data removed]",
      "text/plain": [
       "<Figure size 1152x648 with 2 Axes>"
      ]
     },
     "metadata": {
      "needs_background": "light"
     },
     "output_type": "display_data"
    }
   ],
   "source": [
    "# Plot the Geo-Spatial Plot\n",
    "fig, ax = plt.subplots(figsize = (16,9)) # Figure Size\n",
    "ax.axis('off') # Remove Axis Borders\n",
    "ax.set_title('Resale Prices of HDB in Singapore', fontsize = 20) # Title and Font size\n",
    "map_plot.plot(ax = ax, legend = True, column = 'resale_price', cmap='OrRd') # Plot map\n",
    "fig.savefig('map_export.png', dpi=300) # Save Figure"
   ]
  },
  {
   "cell_type": "markdown",
   "metadata": {},
   "source": [
    "This Geo-Spatial Map represents resale prices of 4 room HDB flats in Singapore in the period of 2019. The lighter the red(Towards Beige), the lower the median prices of resale prices. The Darker the red, the higher the median price will be.\n",
    "\n",
    "This Map is plotted using the Singapore Master Plan 2014 Planning Area Boundary.\n",
    "\n",
    "From what we can see, the central areas in the map is darker in colour compared to the outer areas in Singapore. The colour gradually fades into a lighter color the further it is from the central area of Singapore.\n",
    "\n",
    "What we can deduce from this is, the closer it is to the CBD area, resale HDB prices would exponentially increase, some areas in near CBD is around SGD 700000 to SGD 800000. There is one area that is the darkest colour, the median prices actually reaches SGD 900000. \n",
    "\n",
    "Outside for the CDB area, prices are balancing below SGD 500000 or SGD 400000 "
   ]
  }
 ],
 "metadata": {
  "kernelspec": {
   "display_name": "Python 3",
   "language": "python",
   "name": "python3"
  },
  "language_info": {
   "codemirror_mode": {
    "name": "ipython",
    "version": 3
   },
   "file_extension": ".py",
   "mimetype": "text/x-python",
   "name": "python",
   "nbconvert_exporter": "python",
   "pygments_lexer": "ipython3",
   "version": "3.7.3"
  },
  "toc": {
   "base_numbering": 1,
   "nav_menu": {},
   "number_sections": true,
   "sideBar": true,
   "skip_h1_title": false,
   "title_cell": "Table of Contents",
   "title_sidebar": "Contents",
   "toc_cell": false,
   "toc_position": {},
   "toc_section_display": true,
   "toc_window_display": false
  },
  "varInspector": {
   "cols": {
    "lenName": 16,
    "lenType": 16,
    "lenVar": 40
   },
   "kernels_config": {
    "python": {
     "delete_cmd_postfix": "",
     "delete_cmd_prefix": "del ",
     "library": "var_list.py",
     "varRefreshCmd": "print(var_dic_list())"
    },
    "r": {
     "delete_cmd_postfix": ") ",
     "delete_cmd_prefix": "rm(",
     "library": "var_list.r",
     "varRefreshCmd": "cat(var_dic_list()) "
    }
   },
   "types_to_exclude": [
    "module",
    "function",
    "builtin_function_or_method",
    "instance",
    "_Feature"
   ],
   "window_display": false
  }
 },
 "nbformat": 4,
 "nbformat_minor": 2
}
