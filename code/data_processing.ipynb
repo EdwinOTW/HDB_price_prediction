{
 "cells": [
  {
   "cell_type": "markdown",
   "metadata": {},
   "source": [
    "# Data Processing"
   ]
  },
  {
   "cell_type": "markdown",
   "metadata": {},
   "source": [
    "This notebook will be used to clean and process the data for HDB Resale Prices for Q1 and Q2 of the assignment."
   ]
  },
  {
   "cell_type": "markdown",
   "metadata": {},
   "source": [
    "# Imports"
   ]
  },
  {
   "cell_type": "code",
   "execution_count": 62,
   "metadata": {},
   "outputs": [],
   "source": [
    "import pandas as pd\n",
    "import numpy as np\n",
    "import requests\n",
    "import random\n",
    "\n",
    "from math import radians, degrees, sin, cos, asin, acos, sqrt"
   ]
  },
  {
   "cell_type": "markdown",
   "metadata": {},
   "source": [
    "# Functions"
   ]
  },
  {
   "cell_type": "code",
   "execution_count": 63,
   "metadata": {},
   "outputs": [],
   "source": [
    "# Create Columns\n",
    "def create_column(df):\n",
    "    df['longtitude'] = '' # Create longtitude column\n",
    "    df['latitude'] = '' # Create latitude column\n",
    "    return df"
   ]
  },
  {
   "cell_type": "code",
   "execution_count": 64,
   "metadata": {},
   "outputs": [],
   "source": [
    "# Function to convert block and street_name into latitude and longitude\n",
    "def converter(df, name):\n",
    "    row = 0\n",
    "\n",
    "    # Loop for each block & Street Name = Address\n",
    "    for block, street in zip(df['block'], df['street_name']):\n",
    "        \n",
    "        if (df['longtitude'][row] != ''): # If row is not empty, do nothing\n",
    "            print('Row ' + str(row) + \" converted\")\n",
    "            row = row + 1\n",
    "        \n",
    "        else:\n",
    "            # Url of OneMap API\n",
    "            url = 'https://developers.onemap.sg/commonapi/search?searchVal={0}%20{1}&returnGeom=Y&getAddrDetails=Y'.format(block, street)\n",
    "            # Request API\n",
    "            res = requests.get(url)\n",
    "\n",
    "            # Check Status Code\n",
    "            if res.status_code != 200:\n",
    "                print(\"Error\",res.status_code)\n",
    "                break\n",
    "\n",
    "            # Extract Geo Data\n",
    "            geo_data = res.json() #Save JSON into dict\n",
    "\n",
    "            try:\n",
    "                longitude = geo_data['results'][0]['LONGTITUDE'] # Longitude\n",
    "                latitude = geo_data['results'][0]['LATITUDE'] # Latitude\n",
    "            except:\n",
    "                longitude = 'NA'\n",
    "                latitude = 'NA'\n",
    "                print(\"No Data\")\n",
    "\n",
    "            # Add value into Longitude and Latitude columns in dataframe\n",
    "            df['longtitude'][row] = longitude\n",
    "            df['latitude'][row] = latitude\n",
    "            \n",
    "            print('Converting Row: ' + str(row))\n",
    "            row = row + 1\n",
    "            \n",
    "    # Save DataFrame to CSV\n",
    "    df.to_csv(f'../datasets/resale-flat-prices/{name}.csv', index = False)\n",
    "    \n",
    "    return df"
   ]
  },
  {
   "cell_type": "code",
   "execution_count": 65,
   "metadata": {},
   "outputs": [],
   "source": [
    "# Function to get Mrt Station Latitude and longitutre\n",
    "def mrt_station(df):\n",
    "    df['mrt_lat'] = ''\n",
    "    df['mrt_long'] = ''\n",
    "    for town in df['town'].unique():\n",
    "        url = f'https://developers.onemap.sg/commonapi/search?searchVal={town}%20MRT%20Station&returnGeom=Y&getAddrDetails=Y'\n",
    "        # Request API\n",
    "        res = requests.get(url)\n",
    "\n",
    "        # Check Status Code\n",
    "        if res.status_code != 200:\n",
    "            print(\"Error\",res.status_code)\n",
    "            break\n",
    "\n",
    "        # Extract Geo Data\n",
    "        geo_data = res.json() #Save JSON into dict\n",
    "\n",
    "        try:\n",
    "            longitude = geo_data['results'][0]['LONGTITUDE'] # Longitude\n",
    "            latitude = geo_data['results'][0]['LATITUDE'] # Latitude\n",
    "        except:\n",
    "            if town == 'BUKIT MERAH':\n",
    "                url = 'https://developers.onemap.sg/commonapi/search?searchVal=TIONG%20BAHRU%20MRT%20Station&returnGeom=Y&getAddrDetails=Y'\n",
    "                res = requests.get(url)\n",
    "                geo_data = res.json() #Save JSON into dict\n",
    "                longitude = geo_data['results'][0]['LONGTITUDE'] # Longitude\n",
    "                latitude = geo_data['results'][0]['LATITUDE'] # Latitude\n",
    "            elif town == 'CENTRAL AREA':\n",
    "                url = 'https://developers.onemap.sg/commonapi/search?searchVal=RAFFLES%20PLACE%20MRT%20Station&returnGeom=Y&getAddrDetails=Y'\n",
    "                res = requests.get(url)\n",
    "                geo_data = res.json() #Save JSON into dict\n",
    "                longitude = geo_data['results'][0]['LONGTITUDE'] # Longitude\n",
    "                latitude = geo_data['results'][0]['LATITUDE'] # Latitude\n",
    "            elif town == 'KALLANG/WHAMPOA':\n",
    "                url = 'https://developers.onemap.sg/commonapi/search?searchVal=BOON%20KENG%20MRT%20Station&returnGeom=Y&getAddrDetails=Y'\n",
    "                res = requests.get(url)\n",
    "                geo_data = res.json() #Save JSON into dict\n",
    "                longitude = geo_data['results'][0]['LONGTITUDE'] # Longitude\n",
    "                latitude = geo_data['results'][0]['LATITUDE'] # Latitude\n",
    "            else:\n",
    "                url = 'https://developers.onemap.sg/commonapi/search?searchVal=YEW%20TEE%20MRT%20Station&returnGeom=Y&getAddrDetails=Y'\n",
    "                res = requests.get(url)\n",
    "                geo_data = res.json() #Save JSON into dict\n",
    "                longitude = geo_data['results'][0]['LONGTITUDE'] # Longitude\n",
    "                latitude = geo_data['results'][0]['LATITUDE'] # Latitude\n",
    "                \n",
    "        # Add value into Longitude and Latitude columns in dataframe\n",
    "        df.loc[(df['town'] == town), 'mrt_lat'] = latitude\n",
    "        df.loc[(df['town'] == town), 'mrt_long'] = longitude\n",
    "    return df\n"
   ]
  },
  {
   "cell_type": "code",
   "execution_count": 66,
   "metadata": {},
   "outputs": [],
   "source": [
    "#This is the function to calculate distance between Geo coordinates\n",
    "def get_distance_km(lon1, lat1, lon2, lat2):\n",
    "    lon1 = lon1.map(radians)\n",
    "    lon2 = lon2.map(radians)\n",
    "    lat1 = lat1.map(radians)\n",
    "    lat2 = lat2.map(radians)\n",
    "    \n",
    "    return 6371 * ((lat1.map(sin) * lat2.map(sin) + lat1.map(cos) * lat2.map(cos) * (lon1-lon2).map(cos)).map(acos))\n"
   ]
  },
  {
   "cell_type": "code",
   "execution_count": 67,
   "metadata": {},
   "outputs": [],
   "source": [
    "# Calculate distance to specific place\n",
    "def get_distance_km_specific(lon1, lat1, lon2, lat2):\n",
    "    lon1 = lon1.map(radians)\n",
    "    lat1 = lat1.map(radians)\n",
    "    lon2 = radians(lon2)\n",
    "    lat2 = radians(lat2)\n",
    "    \n",
    "    return 6371 * ((lat1.map(sin) * sin(lat2) + lat1.map(cos) * cos(lat2) * (lon1-lon2).map(cos)).map(acos))"
   ]
  },
  {
   "cell_type": "code",
   "execution_count": 68,
   "metadata": {},
   "outputs": [],
   "source": [
    "# Identify if the town is a mature estate. 1 = mature estate, 0 = non mature estate\n",
    "def mature(df, estates):\n",
    "    df['mature'] = 0\n",
    "    for town in estates:\n",
    "        df.loc[(df['town'] == town), 'mature'] = 1\n",
    "    return df"
   ]
  },
  {
   "cell_type": "markdown",
   "metadata": {},
   "source": [
    "# Import Dataset"
   ]
  },
  {
   "cell_type": "code",
   "execution_count": 69,
   "metadata": {},
   "outputs": [],
   "source": [
    "# Importing Housing Dataset\n",
    "df_17 = pd.read_csv(\"../datasets/resale-flat-prices/resale-flat-prices-based-on-registration-date-from-jan-2017-onwards.csv\")\n",
    "df_15_16 = pd.read_csv(\"../datasets/resale-flat-prices/resale-flat-prices-based-on-registration-date-from-jan-2015-to-dec-2016.csv\")\n",
    "df_12_14 = pd.read_csv(\"../datasets/resale-flat-prices/resale-flat-prices-based-on-registration-date-from-mar-2012-to-dec-2014.csv\")\n",
    "df_00_12 = pd.read_csv(\"../datasets/resale-flat-prices/resale-flat-prices-based-on-approval-date-2000-feb-2012.csv\")\n",
    "df_90_99 = pd.read_csv(\"../datasets/resale-flat-prices/resale-flat-prices-based-on-approval-date-1990-1999.csv\")"
   ]
  },
  {
   "cell_type": "code",
   "execution_count": 70,
   "metadata": {},
   "outputs": [
    {
     "data": {
      "text/html": [
       "<div>\n",
       "<style scoped>\n",
       "    .dataframe tbody tr th:only-of-type {\n",
       "        vertical-align: middle;\n",
       "    }\n",
       "\n",
       "    .dataframe tbody tr th {\n",
       "        vertical-align: top;\n",
       "    }\n",
       "\n",
       "    .dataframe thead th {\n",
       "        text-align: right;\n",
       "    }\n",
       "</style>\n",
       "<table border=\"1\" class=\"dataframe\">\n",
       "  <thead>\n",
       "    <tr style=\"text-align: right;\">\n",
       "      <th></th>\n",
       "      <th>month</th>\n",
       "      <th>town</th>\n",
       "      <th>flat_type</th>\n",
       "      <th>block</th>\n",
       "      <th>street_name</th>\n",
       "      <th>storey_range</th>\n",
       "      <th>floor_area_sqm</th>\n",
       "      <th>flat_model</th>\n",
       "      <th>lease_commence_date</th>\n",
       "      <th>remaining_lease</th>\n",
       "      <th>resale_price</th>\n",
       "    </tr>\n",
       "  </thead>\n",
       "  <tbody>\n",
       "    <tr>\n",
       "      <th>0</th>\n",
       "      <td>2017-01</td>\n",
       "      <td>ANG MO KIO</td>\n",
       "      <td>2 ROOM</td>\n",
       "      <td>406</td>\n",
       "      <td>ANG MO KIO AVE 10</td>\n",
       "      <td>10 TO 12</td>\n",
       "      <td>44.0</td>\n",
       "      <td>Improved</td>\n",
       "      <td>1979</td>\n",
       "      <td>61 years 04 months</td>\n",
       "      <td>232000.0</td>\n",
       "    </tr>\n",
       "    <tr>\n",
       "      <th>1</th>\n",
       "      <td>2017-01</td>\n",
       "      <td>ANG MO KIO</td>\n",
       "      <td>3 ROOM</td>\n",
       "      <td>108</td>\n",
       "      <td>ANG MO KIO AVE 4</td>\n",
       "      <td>01 TO 03</td>\n",
       "      <td>67.0</td>\n",
       "      <td>New Generation</td>\n",
       "      <td>1978</td>\n",
       "      <td>60 years 07 months</td>\n",
       "      <td>250000.0</td>\n",
       "    </tr>\n",
       "    <tr>\n",
       "      <th>2</th>\n",
       "      <td>2017-01</td>\n",
       "      <td>ANG MO KIO</td>\n",
       "      <td>3 ROOM</td>\n",
       "      <td>602</td>\n",
       "      <td>ANG MO KIO AVE 5</td>\n",
       "      <td>01 TO 03</td>\n",
       "      <td>67.0</td>\n",
       "      <td>New Generation</td>\n",
       "      <td>1980</td>\n",
       "      <td>62 years 05 months</td>\n",
       "      <td>262000.0</td>\n",
       "    </tr>\n",
       "    <tr>\n",
       "      <th>3</th>\n",
       "      <td>2017-01</td>\n",
       "      <td>ANG MO KIO</td>\n",
       "      <td>3 ROOM</td>\n",
       "      <td>465</td>\n",
       "      <td>ANG MO KIO AVE 10</td>\n",
       "      <td>04 TO 06</td>\n",
       "      <td>68.0</td>\n",
       "      <td>New Generation</td>\n",
       "      <td>1980</td>\n",
       "      <td>62 years 01 month</td>\n",
       "      <td>265000.0</td>\n",
       "    </tr>\n",
       "    <tr>\n",
       "      <th>4</th>\n",
       "      <td>2017-01</td>\n",
       "      <td>ANG MO KIO</td>\n",
       "      <td>3 ROOM</td>\n",
       "      <td>601</td>\n",
       "      <td>ANG MO KIO AVE 5</td>\n",
       "      <td>01 TO 03</td>\n",
       "      <td>67.0</td>\n",
       "      <td>New Generation</td>\n",
       "      <td>1980</td>\n",
       "      <td>62 years 05 months</td>\n",
       "      <td>265000.0</td>\n",
       "    </tr>\n",
       "  </tbody>\n",
       "</table>\n",
       "</div>"
      ],
      "text/plain": [
       "     month        town flat_type block        street_name storey_range  \\\n",
       "0  2017-01  ANG MO KIO    2 ROOM   406  ANG MO KIO AVE 10     10 TO 12   \n",
       "1  2017-01  ANG MO KIO    3 ROOM   108   ANG MO KIO AVE 4     01 TO 03   \n",
       "2  2017-01  ANG MO KIO    3 ROOM   602   ANG MO KIO AVE 5     01 TO 03   \n",
       "3  2017-01  ANG MO KIO    3 ROOM   465  ANG MO KIO AVE 10     04 TO 06   \n",
       "4  2017-01  ANG MO KIO    3 ROOM   601   ANG MO KIO AVE 5     01 TO 03   \n",
       "\n",
       "   floor_area_sqm      flat_model  lease_commence_date     remaining_lease  \\\n",
       "0            44.0        Improved                 1979  61 years 04 months   \n",
       "1            67.0  New Generation                 1978  60 years 07 months   \n",
       "2            67.0  New Generation                 1980  62 years 05 months   \n",
       "3            68.0  New Generation                 1980   62 years 01 month   \n",
       "4            67.0  New Generation                 1980  62 years 05 months   \n",
       "\n",
       "   resale_price  \n",
       "0      232000.0  \n",
       "1      250000.0  \n",
       "2      262000.0  \n",
       "3      265000.0  \n",
       "4      265000.0  "
      ]
     },
     "execution_count": 70,
     "metadata": {},
     "output_type": "execute_result"
    }
   ],
   "source": [
    "df_17.head()"
   ]
  },
  {
   "cell_type": "markdown",
   "metadata": {},
   "source": [
    "# Pre-processing"
   ]
  },
  {
   "cell_type": "markdown",
   "metadata": {},
   "source": [
    "## Convert Address into Longtitude & Latitude"
   ]
  },
  {
   "cell_type": "markdown",
   "metadata": {},
   "source": [
    "We are converting the block and street_name columns into longtitude and latitude so that we will be able to find out the exact location of the houses.\n",
    "\n",
    "We can also use this data for future feature engineering, such as finding the distance to MRT stations of their respective towns and distance to CBD area (Raffles Place) or maybe even the Airport."
   ]
  },
  {
   "cell_type": "markdown",
   "metadata": {},
   "source": [
    "**Warning! Do not run the 2 cells below, it takes forever to run**"
   ]
  },
  {
   "cell_type": "raw",
   "metadata": {},
   "source": [
    "df_list = [df_17, df_15_16, df_12_14, df_00_12, df_90_99]\n",
    "for df in df_list\n",
    "df = create_column(df)"
   ]
  },
  {
   "cell_type": "raw",
   "metadata": {},
   "source": [
    "# Convert all Dataframes\n",
    "name = ['resale_prices_17', 'resale_prices_15_16', 'resale_prices_12_14', 'resale_prices_00_12', 'resale_prices_90_99']\n",
    "for df, name in zip(df_list, name):\n",
    "    df = converter(df, name)\n",
    "    print('df converted')"
   ]
  },
  {
   "cell_type": "markdown",
   "metadata": {},
   "source": [
    "# Feature Engineering"
   ]
  },
  {
   "cell_type": "code",
   "execution_count": 71,
   "metadata": {},
   "outputs": [],
   "source": [
    "# Importing Housing Dataset\n",
    "df_17 = pd.read_csv(\"../datasets/resale-flat-prices/resale_prices_17.csv\")\n",
    "df_15_16 = pd.read_csv(\"../datasets/resale-flat-prices/resale_prices_15_16.csv\")\n",
    "df_12_14 = pd.read_csv(\"../datasets/resale-flat-prices/resale_prices_12_14.csv\")\n",
    "df_00_12 = pd.read_csv(\"../datasets/resale-flat-prices/resale_prices_00_12.csv\")\n",
    "df_90_99 = pd.read_csv(\"../datasets/resale-flat-prices/resale_prices_90_99.csv\")"
   ]
  },
  {
   "cell_type": "code",
   "execution_count": 72,
   "metadata": {},
   "outputs": [],
   "source": [
    "# Combine all datasets into one\n",
    "df = df_90_99.append(df_00_12)\n",
    "df = df.append(df_12_14)\n",
    "df = df.append(df_15_16)\n",
    "df = df.append(df_17)"
   ]
  },
  {
   "cell_type": "markdown",
   "metadata": {},
   "source": [
    "## Create Columns"
   ]
  },
  {
   "cell_type": "markdown",
   "metadata": {},
   "source": [
    "Remaining Lease\n",
    "\n",
    "Distance from MRT\n",
    "\n",
    "Distance from CBD\n",
    "\n",
    "Distance from Airport\n",
    "\n",
    "Matured Estate or not"
   ]
  },
  {
   "cell_type": "markdown",
   "metadata": {},
   "source": [
    "### Calculate Remaining Lease"
   ]
  },
  {
   "cell_type": "code",
   "execution_count": 73,
   "metadata": {},
   "outputs": [],
   "source": [
    "# Fill null values from remaining_lease column \n",
    "# minus current year with lease_commence_date\n",
    "df['remaining_lease'] = df.apply(lambda row: 99 - (2020 - df['lease_commence_date']))"
   ]
  },
  {
   "cell_type": "markdown",
   "metadata": {},
   "source": [
    "### Create latitude and longitute for respective mrt stations"
   ]
  },
  {
   "cell_type": "code",
   "execution_count": 74,
   "metadata": {},
   "outputs": [
    {
     "data": {
      "text/plain": [
       "array(['ANG MO KIO', 'BEDOK', 'BISHAN', 'BUKIT BATOK', 'BUKIT MERAH',\n",
       "       'BUKIT TIMAH', 'CENTRAL AREA', 'CHOA CHU KANG', 'CLEMENTI',\n",
       "       'GEYLANG', 'HOUGANG', 'JURONG EAST', 'JURONG WEST',\n",
       "       'KALLANG/WHAMPOA', 'MARINE PARADE', 'QUEENSTOWN', 'SENGKANG',\n",
       "       'SERANGOON', 'TAMPINES', 'TOA PAYOH', 'WOODLANDS', 'YISHUN',\n",
       "       'LIM CHU KANG', 'SEMBAWANG', 'BUKIT PANJANG', 'PASIR RIS',\n",
       "       'PUNGGOL'], dtype=object)"
      ]
     },
     "execution_count": 74,
     "metadata": {},
     "output_type": "execute_result"
    }
   ],
   "source": [
    "df['town'].unique()"
   ]
  },
  {
   "cell_type": "markdown",
   "metadata": {},
   "source": [
    "Nearest MRT: \n",
    "\n",
    "1) Bukit Merah = Tiong Bahru\n",
    "\n",
    "2) Central Area = Raffles Place\n",
    "\n",
    "3) Kallang/Whampoa = Boon Keng\n",
    "\n",
    "4) Lim Chu Kang = YewTee"
   ]
  },
  {
   "cell_type": "code",
   "execution_count": 75,
   "metadata": {},
   "outputs": [],
   "source": [
    "# Creating mrt columns\n",
    "df = mrt_station(df)"
   ]
  },
  {
   "cell_type": "markdown",
   "metadata": {},
   "source": [
    "### Create Distance to Mrt column"
   ]
  },
  {
   "cell_type": "code",
   "execution_count": 76,
   "metadata": {},
   "outputs": [
    {
     "name": "stdout",
     "output_type": "stream",
     "text": [
      "<class 'pandas.core.frame.DataFrame'>\n",
      "Int64Index: 808472 entries, 0 to 62264\n",
      "Data columns (total 15 columns):\n",
      "block                  808472 non-null object\n",
      "flat_model             808472 non-null object\n",
      "flat_type              808472 non-null object\n",
      "floor_area_sqm         808472 non-null float64\n",
      "latitude               796252 non-null float64\n",
      "lease_commence_date    808472 non-null int64\n",
      "longtitude             796253 non-null float64\n",
      "month                  808472 non-null object\n",
      "remaining_lease        808472 non-null int64\n",
      "resale_price           808472 non-null float64\n",
      "storey_range           808472 non-null object\n",
      "street_name            808472 non-null object\n",
      "town                   808472 non-null object\n",
      "mrt_lat                808472 non-null object\n",
      "mrt_long               808472 non-null object\n",
      "dtypes: float64(4), int64(2), object(9)\n",
      "memory usage: 98.7+ MB\n"
     ]
    }
   ],
   "source": [
    "# Checking Datatype of columns\n",
    "df.info()"
   ]
  },
  {
   "cell_type": "code",
   "execution_count": 77,
   "metadata": {},
   "outputs": [],
   "source": [
    "# Convert data type for mrt_lat and mrt_long\n",
    "df = df.astype({'mrt_lat': 'float', 'mrt_long': 'float', 'latitude': 'float', 'longtitude': 'float'})"
   ]
  },
  {
   "cell_type": "code",
   "execution_count": 78,
   "metadata": {},
   "outputs": [],
   "source": [
    "# Get distance to mrt\n",
    "df['dist_mrt'] = 0\n",
    "df['dist_mrt'] = get_distance_km(lon1 = df['longtitude'], lat1 = df['latitude'], lon2 = df['mrt_long'], lat2 = df['mrt_lat'])"
   ]
  },
  {
   "cell_type": "markdown",
   "metadata": {},
   "source": [
    "### Create Distance to CBD (Raffles Place)\n",
    "Raffles Place Mrt: lat = 1.2839332623453799, long = 103.851463066212"
   ]
  },
  {
   "cell_type": "code",
   "execution_count": 79,
   "metadata": {},
   "outputs": [],
   "source": [
    "# Get Distance to CBD\n",
    "df['dist_cbd'] = 0\n",
    "df['dist_cbd'] = get_distance_km_specific(lon1 = df['longtitude'], lat1 = df['latitude'], lon2 = 103.851463066212, lat2 = 1.2839332623453799)"
   ]
  },
  {
   "cell_type": "markdown",
   "metadata": {},
   "source": [
    "### Create Distance to Airport\n",
    "Changi Airport: lat = 1.35747897447696, long = 103.98788356959"
   ]
  },
  {
   "cell_type": "code",
   "execution_count": 80,
   "metadata": {},
   "outputs": [],
   "source": [
    "# Get Distance to Airport\n",
    "df['dist_ap'] = 0\n",
    "df['dist_ap'] = get_distance_km_specific(lon1 = df['longtitude'], lat1 = df['latitude'], lon2 = 103.98788356959, lat2 = 1.35747897447696)"
   ]
  },
  {
   "cell_type": "markdown",
   "metadata": {},
   "source": [
    "### Create whether it is a mature estate or not\n",
    "Based on [link](https://blog.carousell.com/property/mature-non-mature-estates-hdb-singapore/), the mature estates are: \n",
    "\n",
    "Ang Mo Kio, Bedok, Bishan, Bukit Merah, Bukit Timah, Central, Clementi, Geylang, Kallang/Whampoa, Marine Parade, Pasir Ris, Queenstown, Serangoon, Tampines, Toa Payoh\n"
   ]
  },
  {
   "cell_type": "code",
   "execution_count": 81,
   "metadata": {},
   "outputs": [],
   "source": [
    "# List of Matured Estates\n",
    "estates = ['ANG MO KIO', 'BEDOK', 'BISHAN', 'BUKIT MERAH', 'BUKIT TIMAH', 'CENTRAL', 'CLEMENTI', 'GEYLANG', 'KALLANG/WHAMPOA', 'MARINE PARADE', 'PASIR RIS', 'QUEENSTOWN', 'SERANGOON', 'TAMPINES', 'TOA PAYOH']"
   ]
  },
  {
   "cell_type": "code",
   "execution_count": 82,
   "metadata": {},
   "outputs": [],
   "source": [
    "# Create Mature Estate Column\n",
    "df = mature(df, estates)"
   ]
  },
  {
   "cell_type": "markdown",
   "metadata": {},
   "source": [
    "# Clean Data"
   ]
  },
  {
   "cell_type": "markdown",
   "metadata": {},
   "source": [
    "## Remove Houses that are not HDB"
   ]
  },
  {
   "cell_type": "markdown",
   "metadata": {},
   "source": [
    "I am dropping all the observations that are not resale HDB flats as the purpose of this project is to analyze the data and create models based on HDB buildings. So, privated houses would mess up the model and skew our data."
   ]
  },
  {
   "cell_type": "code",
   "execution_count": 99,
   "metadata": {},
   "outputs": [
    {
     "data": {
      "text/plain": [
       "array(['NEW GENERATION', 'IMPROVED', 'MODEL A', 'STANDARD', 'SIMPLIFIED',\n",
       "       'MODEL A-MAISONETTE', 'APARTMENT', 'MAISONETTE', '2-ROOM',\n",
       "       'IMPROVED-MAISONETTE', 'MULTI GENERATION', 'PREMIUM APARTMENT',\n",
       "       'ADJOINED FLAT', 'PREMIUM MAISONETTE', 'MODEL A2', 'DBSS',\n",
       "       'TYPE S1', 'TYPE S2', 'PREMIUM APARTMENT LOFT'], dtype=object)"
      ]
     },
     "execution_count": 99,
     "metadata": {},
     "output_type": "execute_result"
    }
   ],
   "source": [
    "df['flat_model'].unique()"
   ]
  },
  {
   "cell_type": "code",
   "execution_count": 84,
   "metadata": {},
   "outputs": [],
   "source": [
    "# Drop all the observations with Terrace flat model\n",
    "df = df[(df['flat_model'] != 'Terrace') & (df['flat_model'] != 'TERRACE')]"
   ]
  },
  {
   "cell_type": "code",
   "execution_count": 85,
   "metadata": {},
   "outputs": [],
   "source": [
    "# Standardize Naming or flat_model\n",
    "df['flat_model'] = df['flat_model'].map(lambda x: str(x).upper())"
   ]
  },
  {
   "cell_type": "markdown",
   "metadata": {},
   "source": [
    "## Null Values"
   ]
  },
  {
   "cell_type": "code",
   "execution_count": 87,
   "metadata": {},
   "outputs": [
    {
     "name": "stdout",
     "output_type": "stream",
     "text": [
      "<class 'pandas.core.frame.DataFrame'>\n",
      "Int64Index: 807838 entries, 0 to 62264\n",
      "Data columns (total 19 columns):\n",
      "block                  807838 non-null object\n",
      "flat_model             807838 non-null object\n",
      "flat_type              807838 non-null object\n",
      "floor_area_sqm         807838 non-null float64\n",
      "latitude               795618 non-null float64\n",
      "lease_commence_date    807838 non-null int64\n",
      "longtitude             795619 non-null float64\n",
      "month                  807838 non-null object\n",
      "remaining_lease        807838 non-null int64\n",
      "resale_price           807838 non-null float64\n",
      "storey_range           807838 non-null object\n",
      "street_name            807838 non-null object\n",
      "town                   807838 non-null object\n",
      "mrt_lat                807838 non-null float64\n",
      "mrt_long               807838 non-null float64\n",
      "dist_mrt               795618 non-null float64\n",
      "dist_cbd               795618 non-null float64\n",
      "dist_ap                795618 non-null float64\n",
      "mature                 807838 non-null int64\n",
      "dtypes: float64(9), int64(3), object(7)\n",
      "memory usage: 123.3+ MB\n"
     ]
    }
   ],
   "source": [
    "# Explore the datatypes of features and their null values\n",
    "df.info()"
   ]
  },
  {
   "cell_type": "markdown",
   "metadata": {},
   "source": [
    "The Datatype of the features are as they should be, no changes needed.\n",
    "\n",
    "There are a few thousand rows of null values for the coordinates. This might be due to the geolocations of the address is unavailable. We will explore further before deciding whether to drop the rows.\n",
    "\n",
    "Since the number of null values is only around 2%, it might not affect the overall result."
   ]
  },
  {
   "cell_type": "code",
   "execution_count": 88,
   "metadata": {},
   "outputs": [
    {
     "data": {
      "text/plain": [
       "1978    2002\n",
       "1969    1698\n",
       "1974    1533\n",
       "1977    1392\n",
       "1973     798\n",
       "1976     729\n",
       "1984     707\n",
       "1980     539\n",
       "1981     398\n",
       "1985     383\n",
       "1972     334\n",
       "1975     328\n",
       "1971     298\n",
       "1979     207\n",
       "1986     201\n",
       "1982     193\n",
       "1970     186\n",
       "1983     120\n",
       "1996      91\n",
       "1967      83\n",
       "Name: lease_commence_date, dtype: int64"
      ]
     },
     "execution_count": 88,
     "metadata": {},
     "output_type": "execute_result"
    }
   ],
   "source": [
    "# Check which year the addresses with null values is first built\n",
    "df[df['latitude'].isnull()]['lease_commence_date'].value_counts()"
   ]
  },
  {
   "cell_type": "markdown",
   "metadata": {},
   "source": [
    "As we can see here, most building are built very long ago and very old. Hence there is a possibility that this houses might not exist anymore because of en bloc-ing. (building bought over and demolished to be rebuilt to something else)\n",
    "\n",
    "Hence, we shall drop all the observations with null values."
   ]
  },
  {
   "cell_type": "code",
   "execution_count": 89,
   "metadata": {},
   "outputs": [],
   "source": [
    "# Drop all null observations\n",
    "df = df.dropna()"
   ]
  },
  {
   "cell_type": "markdown",
   "metadata": {},
   "source": [
    "## Summary Statistics"
   ]
  },
  {
   "cell_type": "code",
   "execution_count": 90,
   "metadata": {},
   "outputs": [
    {
     "data": {
      "text/html": [
       "<div>\n",
       "<style scoped>\n",
       "    .dataframe tbody tr th:only-of-type {\n",
       "        vertical-align: middle;\n",
       "    }\n",
       "\n",
       "    .dataframe tbody tr th {\n",
       "        vertical-align: top;\n",
       "    }\n",
       "\n",
       "    .dataframe thead th {\n",
       "        text-align: right;\n",
       "    }\n",
       "</style>\n",
       "<table border=\"1\" class=\"dataframe\">\n",
       "  <thead>\n",
       "    <tr style=\"text-align: right;\">\n",
       "      <th></th>\n",
       "      <th>floor_area_sqm</th>\n",
       "      <th>latitude</th>\n",
       "      <th>lease_commence_date</th>\n",
       "      <th>longtitude</th>\n",
       "      <th>remaining_lease</th>\n",
       "      <th>resale_price</th>\n",
       "      <th>mrt_lat</th>\n",
       "      <th>mrt_long</th>\n",
       "      <th>dist_mrt</th>\n",
       "      <th>dist_cbd</th>\n",
       "      <th>dist_ap</th>\n",
       "      <th>mature</th>\n",
       "    </tr>\n",
       "  </thead>\n",
       "  <tbody>\n",
       "    <tr>\n",
       "      <th>count</th>\n",
       "      <td>795618.000000</td>\n",
       "      <td>795618.000000</td>\n",
       "      <td>795618.000000</td>\n",
       "      <td>795618.000000</td>\n",
       "      <td>795618.000000</td>\n",
       "      <td>7.956180e+05</td>\n",
       "      <td>795618.000000</td>\n",
       "      <td>795618.000000</td>\n",
       "      <td>795618.000000</td>\n",
       "      <td>795618.000000</td>\n",
       "      <td>795618.000000</td>\n",
       "      <td>795618.00000</td>\n",
       "    </tr>\n",
       "    <tr>\n",
       "      <th>mean</th>\n",
       "      <td>95.957137</td>\n",
       "      <td>1.361482</td>\n",
       "      <td>1987.126391</td>\n",
       "      <td>103.839135</td>\n",
       "      <td>66.126391</td>\n",
       "      <td>2.923675e+05</td>\n",
       "      <td>1.359827</td>\n",
       "      <td>103.837628</td>\n",
       "      <td>1.216366</td>\n",
       "      <td>12.088879</td>\n",
       "      <td>17.156694</td>\n",
       "      <td>0.51186</td>\n",
       "    </tr>\n",
       "    <tr>\n",
       "      <th>std</th>\n",
       "      <td>25.904908</td>\n",
       "      <td>0.041418</td>\n",
       "      <td>9.171724</td>\n",
       "      <td>0.074182</td>\n",
       "      <td>9.171724</td>\n",
       "      <td>1.463278e+05</td>\n",
       "      <td>0.041605</td>\n",
       "      <td>0.074714</td>\n",
       "      <td>0.788059</td>\n",
       "      <td>4.394001</td>\n",
       "      <td>8.275050</td>\n",
       "      <td>0.49986</td>\n",
       "    </tr>\n",
       "    <tr>\n",
       "      <th>min</th>\n",
       "      <td>31.000000</td>\n",
       "      <td>1.270380</td>\n",
       "      <td>1966.000000</td>\n",
       "      <td>103.685228</td>\n",
       "      <td>45.000000</td>\n",
       "      <td>5.000000e+03</td>\n",
       "      <td>1.283933</td>\n",
       "      <td>103.697322</td>\n",
       "      <td>0.039118</td>\n",
       "      <td>0.587376</td>\n",
       "      <td>2.668990</td>\n",
       "      <td>0.00000</td>\n",
       "    </tr>\n",
       "    <tr>\n",
       "      <th>25%</th>\n",
       "      <td>73.000000</td>\n",
       "      <td>1.334061</td>\n",
       "      <td>1980.000000</td>\n",
       "      <td>103.772776</td>\n",
       "      <td>59.000000</td>\n",
       "      <td>1.820000e+05</td>\n",
       "      <td>1.333279</td>\n",
       "      <td>103.765774</td>\n",
       "      <td>0.694575</td>\n",
       "      <td>9.164215</td>\n",
       "      <td>10.506930</td>\n",
       "      <td>0.00000</td>\n",
       "    </tr>\n",
       "    <tr>\n",
       "      <th>50%</th>\n",
       "      <td>93.000000</td>\n",
       "      <td>1.354403</td>\n",
       "      <td>1986.000000</td>\n",
       "      <td>103.842575</td>\n",
       "      <td>65.000000</td>\n",
       "      <td>2.745000e+05</td>\n",
       "      <td>1.353398</td>\n",
       "      <td>103.846517</td>\n",
       "      <td>1.061158</td>\n",
       "      <td>12.728522</td>\n",
       "      <td>16.721602</td>\n",
       "      <td>1.00000</td>\n",
       "    </tr>\n",
       "    <tr>\n",
       "      <th>75%</th>\n",
       "      <td>115.000000</td>\n",
       "      <td>1.380655</td>\n",
       "      <td>1994.000000</td>\n",
       "      <td>103.898340</td>\n",
       "      <td>73.000000</td>\n",
       "      <td>3.800000e+05</td>\n",
       "      <td>1.379561</td>\n",
       "      <td>103.895637</td>\n",
       "      <td>1.550309</td>\n",
       "      <td>15.478102</td>\n",
       "      <td>24.677444</td>\n",
       "      <td>1.00000</td>\n",
       "    </tr>\n",
       "    <tr>\n",
       "      <th>max</th>\n",
       "      <td>243.000000</td>\n",
       "      <td>1.457071</td>\n",
       "      <td>2016.000000</td>\n",
       "      <td>103.987805</td>\n",
       "      <td>95.000000</td>\n",
       "      <td>1.205000e+06</td>\n",
       "      <td>1.449172</td>\n",
       "      <td>103.949333</td>\n",
       "      <td>11.911097</td>\n",
       "      <td>22.393280</td>\n",
       "      <td>33.696856</td>\n",
       "      <td>1.00000</td>\n",
       "    </tr>\n",
       "  </tbody>\n",
       "</table>\n",
       "</div>"
      ],
      "text/plain": [
       "       floor_area_sqm       latitude  lease_commence_date     longtitude  \\\n",
       "count   795618.000000  795618.000000        795618.000000  795618.000000   \n",
       "mean        95.957137       1.361482          1987.126391     103.839135   \n",
       "std         25.904908       0.041418             9.171724       0.074182   \n",
       "min         31.000000       1.270380          1966.000000     103.685228   \n",
       "25%         73.000000       1.334061          1980.000000     103.772776   \n",
       "50%         93.000000       1.354403          1986.000000     103.842575   \n",
       "75%        115.000000       1.380655          1994.000000     103.898340   \n",
       "max        243.000000       1.457071          2016.000000     103.987805   \n",
       "\n",
       "       remaining_lease  resale_price        mrt_lat       mrt_long  \\\n",
       "count    795618.000000  7.956180e+05  795618.000000  795618.000000   \n",
       "mean         66.126391  2.923675e+05       1.359827     103.837628   \n",
       "std           9.171724  1.463278e+05       0.041605       0.074714   \n",
       "min          45.000000  5.000000e+03       1.283933     103.697322   \n",
       "25%          59.000000  1.820000e+05       1.333279     103.765774   \n",
       "50%          65.000000  2.745000e+05       1.353398     103.846517   \n",
       "75%          73.000000  3.800000e+05       1.379561     103.895637   \n",
       "max          95.000000  1.205000e+06       1.449172     103.949333   \n",
       "\n",
       "            dist_mrt       dist_cbd        dist_ap        mature  \n",
       "count  795618.000000  795618.000000  795618.000000  795618.00000  \n",
       "mean        1.216366      12.088879      17.156694       0.51186  \n",
       "std         0.788059       4.394001       8.275050       0.49986  \n",
       "min         0.039118       0.587376       2.668990       0.00000  \n",
       "25%         0.694575       9.164215      10.506930       0.00000  \n",
       "50%         1.061158      12.728522      16.721602       1.00000  \n",
       "75%         1.550309      15.478102      24.677444       1.00000  \n",
       "max        11.911097      22.393280      33.696856       1.00000  "
      ]
     },
     "execution_count": 90,
     "metadata": {},
     "output_type": "execute_result"
    }
   ],
   "source": [
    "# Check Statistics of Dataset (It only shows numerical Values)\n",
    "df.describe()"
   ]
  },
  {
   "cell_type": "markdown",
   "metadata": {},
   "source": [
    "- Generally the Mean is higher than the Median in all the features. This might mean the data might be skewed slightly to the left.\n",
    "- The Max value for dist_mrt and floor_area_sqm is significantly higher than the 75%. This means there might be presence of outliers"
   ]
  },
  {
   "cell_type": "code",
   "execution_count": 91,
   "metadata": {},
   "outputs": [
    {
     "data": {
      "text/html": [
       "<div>\n",
       "<style scoped>\n",
       "    .dataframe tbody tr th:only-of-type {\n",
       "        vertical-align: middle;\n",
       "    }\n",
       "\n",
       "    .dataframe tbody tr th {\n",
       "        vertical-align: top;\n",
       "    }\n",
       "\n",
       "    .dataframe thead th {\n",
       "        text-align: right;\n",
       "    }\n",
       "</style>\n",
       "<table border=\"1\" class=\"dataframe\">\n",
       "  <thead>\n",
       "    <tr style=\"text-align: right;\">\n",
       "      <th></th>\n",
       "      <th>block</th>\n",
       "      <th>flat_model</th>\n",
       "      <th>flat_type</th>\n",
       "      <th>floor_area_sqm</th>\n",
       "      <th>latitude</th>\n",
       "      <th>lease_commence_date</th>\n",
       "      <th>longtitude</th>\n",
       "      <th>month</th>\n",
       "      <th>remaining_lease</th>\n",
       "      <th>resale_price</th>\n",
       "      <th>storey_range</th>\n",
       "      <th>street_name</th>\n",
       "      <th>town</th>\n",
       "      <th>mrt_lat</th>\n",
       "      <th>mrt_long</th>\n",
       "      <th>dist_mrt</th>\n",
       "      <th>dist_cbd</th>\n",
       "      <th>dist_ap</th>\n",
       "      <th>mature</th>\n",
       "    </tr>\n",
       "  </thead>\n",
       "  <tbody>\n",
       "    <tr>\n",
       "      <th>80647</th>\n",
       "      <td>455</td>\n",
       "      <td>MAISONETTE</td>\n",
       "      <td>EXECUTIVE</td>\n",
       "      <td>243.0</td>\n",
       "      <td>1.358728</td>\n",
       "      <td>1990</td>\n",
       "      <td>103.830643</td>\n",
       "      <td>1994-11</td>\n",
       "      <td>69</td>\n",
       "      <td>470000.0</td>\n",
       "      <td>10 TO 12</td>\n",
       "      <td>SIN MING AVE</td>\n",
       "      <td>BISHAN</td>\n",
       "      <td>1.351019</td>\n",
       "      <td>103.850057</td>\n",
       "      <td>2.322209</td>\n",
       "      <td>8.632889</td>\n",
       "      <td>17.480021</td>\n",
       "      <td>1</td>\n",
       "    </tr>\n",
       "    <tr>\n",
       "      <th>82586</th>\n",
       "      <td>441</td>\n",
       "      <td>MAISONETTE</td>\n",
       "      <td>EXECUTIVE</td>\n",
       "      <td>243.0</td>\n",
       "      <td>1.359084</td>\n",
       "      <td>1990</td>\n",
       "      <td>103.831751</td>\n",
       "      <td>1994-12</td>\n",
       "      <td>69</td>\n",
       "      <td>496000.0</td>\n",
       "      <td>10 TO 12</td>\n",
       "      <td>SIN MING AVE</td>\n",
       "      <td>BISHAN</td>\n",
       "      <td>1.351019</td>\n",
       "      <td>103.850057</td>\n",
       "      <td>2.223842</td>\n",
       "      <td>8.638951</td>\n",
       "      <td>17.357187</td>\n",
       "      <td>1</td>\n",
       "    </tr>\n",
       "    <tr>\n",
       "      <th>93494</th>\n",
       "      <td>445</td>\n",
       "      <td>MAISONETTE</td>\n",
       "      <td>EXECUTIVE</td>\n",
       "      <td>243.0</td>\n",
       "      <td>1.358711</td>\n",
       "      <td>1990</td>\n",
       "      <td>103.831720</td>\n",
       "      <td>1995-06</td>\n",
       "      <td>69</td>\n",
       "      <td>550000.0</td>\n",
       "      <td>10 TO 12</td>\n",
       "      <td>SIN MING AVE</td>\n",
       "      <td>BISHAN</td>\n",
       "      <td>1.351019</td>\n",
       "      <td>103.850057</td>\n",
       "      <td>2.210612</td>\n",
       "      <td>8.599725</td>\n",
       "      <td>17.360245</td>\n",
       "      <td>1</td>\n",
       "    </tr>\n",
       "    <tr>\n",
       "      <th>95453</th>\n",
       "      <td>443</td>\n",
       "      <td>MAISONETTE</td>\n",
       "      <td>EXECUTIVE</td>\n",
       "      <td>243.0</td>\n",
       "      <td>1.358948</td>\n",
       "      <td>1990</td>\n",
       "      <td>103.832788</td>\n",
       "      <td>1995-07</td>\n",
       "      <td>69</td>\n",
       "      <td>506000.0</td>\n",
       "      <td>07 TO 09</td>\n",
       "      <td>SIN MING AVE</td>\n",
       "      <td>BISHAN</td>\n",
       "      <td>1.351019</td>\n",
       "      <td>103.850057</td>\n",
       "      <td>2.112547</td>\n",
       "      <td>8.595770</td>\n",
       "      <td>17.241807</td>\n",
       "      <td>1</td>\n",
       "    </tr>\n",
       "    <tr>\n",
       "      <th>151792</th>\n",
       "      <td>441</td>\n",
       "      <td>MAISONETTE</td>\n",
       "      <td>EXECUTIVE</td>\n",
       "      <td>243.0</td>\n",
       "      <td>1.359084</td>\n",
       "      <td>1990</td>\n",
       "      <td>103.831751</td>\n",
       "      <td>1997-03</td>\n",
       "      <td>69</td>\n",
       "      <td>708000.0</td>\n",
       "      <td>10 TO 12</td>\n",
       "      <td>SIN MING AVE</td>\n",
       "      <td>BISHAN</td>\n",
       "      <td>1.351019</td>\n",
       "      <td>103.850057</td>\n",
       "      <td>2.223842</td>\n",
       "      <td>8.638951</td>\n",
       "      <td>17.357187</td>\n",
       "      <td>1</td>\n",
       "    </tr>\n",
       "  </tbody>\n",
       "</table>\n",
       "</div>"
      ],
      "text/plain": [
       "       block  flat_model  flat_type  floor_area_sqm  latitude  \\\n",
       "80647    455  MAISONETTE  EXECUTIVE           243.0  1.358728   \n",
       "82586    441  MAISONETTE  EXECUTIVE           243.0  1.359084   \n",
       "93494    445  MAISONETTE  EXECUTIVE           243.0  1.358711   \n",
       "95453    443  MAISONETTE  EXECUTIVE           243.0  1.358948   \n",
       "151792   441  MAISONETTE  EXECUTIVE           243.0  1.359084   \n",
       "\n",
       "        lease_commence_date  longtitude    month  remaining_lease  \\\n",
       "80647                  1990  103.830643  1994-11               69   \n",
       "82586                  1990  103.831751  1994-12               69   \n",
       "93494                  1990  103.831720  1995-06               69   \n",
       "95453                  1990  103.832788  1995-07               69   \n",
       "151792                 1990  103.831751  1997-03               69   \n",
       "\n",
       "        resale_price storey_range   street_name    town   mrt_lat    mrt_long  \\\n",
       "80647       470000.0     10 TO 12  SIN MING AVE  BISHAN  1.351019  103.850057   \n",
       "82586       496000.0     10 TO 12  SIN MING AVE  BISHAN  1.351019  103.850057   \n",
       "93494       550000.0     10 TO 12  SIN MING AVE  BISHAN  1.351019  103.850057   \n",
       "95453       506000.0     07 TO 09  SIN MING AVE  BISHAN  1.351019  103.850057   \n",
       "151792      708000.0     10 TO 12  SIN MING AVE  BISHAN  1.351019  103.850057   \n",
       "\n",
       "        dist_mrt  dist_cbd    dist_ap  mature  \n",
       "80647   2.322209  8.632889  17.480021       1  \n",
       "82586   2.223842  8.638951  17.357187       1  \n",
       "93494   2.210612  8.599725  17.360245       1  \n",
       "95453   2.112547  8.595770  17.241807       1  \n",
       "151792  2.223842  8.638951  17.357187       1  "
      ]
     },
     "execution_count": 91,
     "metadata": {},
     "output_type": "execute_result"
    }
   ],
   "source": [
    "# Check Floor are sqm for outliers\n",
    "df[df['floor_area_sqm'] > 200].head()"
   ]
  },
  {
   "cell_type": "markdown",
   "metadata": {},
   "source": [
    "Maisonette is acceptable as they are still within the HDB category. No need to adjust the data."
   ]
  },
  {
   "cell_type": "code",
   "execution_count": 92,
   "metadata": {},
   "outputs": [
    {
     "data": {
      "text/plain": [
       "array(['8', '6', '10'], dtype=object)"
      ]
     },
     "execution_count": 92,
     "metadata": {},
     "output_type": "execute_result"
    }
   ],
   "source": [
    "# Check MRT Distance for outliers\n",
    "df[df['dist_mrt'] > 10]['block'].unique()"
   ]
  },
  {
   "cell_type": "markdown",
   "metadata": {},
   "source": [
    "We can see that most of the huge dist_mrt values are cause by an error when retrieving the geo location from address as the are more than 1 location with similar name. I will have to fix this."
   ]
  },
  {
   "cell_type": "code",
   "execution_count": 93,
   "metadata": {},
   "outputs": [],
   "source": [
    "# Fix Wrong Geolocation for specific address\n",
    "for i in ['6', '8', '10']:\n",
    "    url = f'https://developers.onemap.sg/commonapi/search?searchVal={i}%20JLN%20BATU&returnGeom=Y&getAddrDetails=Y'\n",
    "    res = requests.get(url)\n",
    "    geo_data = res.json() #Save JSON into dict\n",
    "    longitude = geo_data['results'][1]['LONGTITUDE'] # Longitude\n",
    "    latitude = geo_data['results'][1]['LATITUDE'] # Latitude\n",
    "    df.loc[(df['street_name']== 'JLN BATU') & (df['block'] == i), 'latitude'] = latitude\n",
    "    df.loc[(df['street_name']== 'JLN BATU') & (df['block'] == i), 'longtitude'] = longitude"
   ]
  },
  {
   "cell_type": "code",
   "execution_count": 94,
   "metadata": {},
   "outputs": [],
   "source": [
    "# Convert mrt_lat, mrt_long datatype\n",
    "df = df.astype({'latitude': 'float', 'longtitude': 'float'})"
   ]
  },
  {
   "cell_type": "code",
   "execution_count": 95,
   "metadata": {},
   "outputs": [],
   "source": [
    "# Recalculate Distance to MRT\n",
    "df['dist_mrt'] = get_distance_km(lon1 = df['longtitude'], lat1 = df['latitude'], lon2 = df['mrt_long'], lat2 = df['mrt_lat'])"
   ]
  },
  {
   "cell_type": "code",
   "execution_count": 96,
   "metadata": {},
   "outputs": [
    {
     "data": {
      "text/html": [
       "<div>\n",
       "<style scoped>\n",
       "    .dataframe tbody tr th:only-of-type {\n",
       "        vertical-align: middle;\n",
       "    }\n",
       "\n",
       "    .dataframe tbody tr th {\n",
       "        vertical-align: top;\n",
       "    }\n",
       "\n",
       "    .dataframe thead th {\n",
       "        text-align: right;\n",
       "    }\n",
       "</style>\n",
       "<table border=\"1\" class=\"dataframe\">\n",
       "  <thead>\n",
       "    <tr style=\"text-align: right;\">\n",
       "      <th></th>\n",
       "      <th>floor_area_sqm</th>\n",
       "      <th>latitude</th>\n",
       "      <th>lease_commence_date</th>\n",
       "      <th>longtitude</th>\n",
       "      <th>remaining_lease</th>\n",
       "      <th>resale_price</th>\n",
       "      <th>mrt_lat</th>\n",
       "      <th>mrt_long</th>\n",
       "      <th>dist_mrt</th>\n",
       "      <th>dist_cbd</th>\n",
       "      <th>dist_ap</th>\n",
       "      <th>mature</th>\n",
       "    </tr>\n",
       "  </thead>\n",
       "  <tbody>\n",
       "    <tr>\n",
       "      <th>count</th>\n",
       "      <td>795618.000000</td>\n",
       "      <td>795618.000000</td>\n",
       "      <td>795618.000000</td>\n",
       "      <td>795618.000000</td>\n",
       "      <td>795618.000000</td>\n",
       "      <td>7.956180e+05</td>\n",
       "      <td>795618.000000</td>\n",
       "      <td>795618.000000</td>\n",
       "      <td>795618.000000</td>\n",
       "      <td>795618.000000</td>\n",
       "      <td>795618.000000</td>\n",
       "      <td>795618.00000</td>\n",
       "    </tr>\n",
       "    <tr>\n",
       "      <th>mean</th>\n",
       "      <td>95.957137</td>\n",
       "      <td>1.361482</td>\n",
       "      <td>1987.126391</td>\n",
       "      <td>103.839135</td>\n",
       "      <td>66.126391</td>\n",
       "      <td>2.923675e+05</td>\n",
       "      <td>1.359827</td>\n",
       "      <td>103.837628</td>\n",
       "      <td>1.216366</td>\n",
       "      <td>12.088879</td>\n",
       "      <td>17.156694</td>\n",
       "      <td>0.51186</td>\n",
       "    </tr>\n",
       "    <tr>\n",
       "      <th>std</th>\n",
       "      <td>25.904908</td>\n",
       "      <td>0.041418</td>\n",
       "      <td>9.171724</td>\n",
       "      <td>0.074182</td>\n",
       "      <td>9.171724</td>\n",
       "      <td>1.463278e+05</td>\n",
       "      <td>0.041605</td>\n",
       "      <td>0.074714</td>\n",
       "      <td>0.788059</td>\n",
       "      <td>4.394001</td>\n",
       "      <td>8.275050</td>\n",
       "      <td>0.49986</td>\n",
       "    </tr>\n",
       "    <tr>\n",
       "      <th>min</th>\n",
       "      <td>31.000000</td>\n",
       "      <td>1.270380</td>\n",
       "      <td>1966.000000</td>\n",
       "      <td>103.685228</td>\n",
       "      <td>45.000000</td>\n",
       "      <td>5.000000e+03</td>\n",
       "      <td>1.283933</td>\n",
       "      <td>103.697322</td>\n",
       "      <td>0.039118</td>\n",
       "      <td>0.587376</td>\n",
       "      <td>2.668990</td>\n",
       "      <td>0.00000</td>\n",
       "    </tr>\n",
       "    <tr>\n",
       "      <th>25%</th>\n",
       "      <td>73.000000</td>\n",
       "      <td>1.334061</td>\n",
       "      <td>1980.000000</td>\n",
       "      <td>103.772776</td>\n",
       "      <td>59.000000</td>\n",
       "      <td>1.820000e+05</td>\n",
       "      <td>1.333279</td>\n",
       "      <td>103.765774</td>\n",
       "      <td>0.694575</td>\n",
       "      <td>9.164215</td>\n",
       "      <td>10.506930</td>\n",
       "      <td>0.00000</td>\n",
       "    </tr>\n",
       "    <tr>\n",
       "      <th>50%</th>\n",
       "      <td>93.000000</td>\n",
       "      <td>1.354403</td>\n",
       "      <td>1986.000000</td>\n",
       "      <td>103.842575</td>\n",
       "      <td>65.000000</td>\n",
       "      <td>2.745000e+05</td>\n",
       "      <td>1.353398</td>\n",
       "      <td>103.846517</td>\n",
       "      <td>1.061158</td>\n",
       "      <td>12.728522</td>\n",
       "      <td>16.721602</td>\n",
       "      <td>1.00000</td>\n",
       "    </tr>\n",
       "    <tr>\n",
       "      <th>75%</th>\n",
       "      <td>115.000000</td>\n",
       "      <td>1.380655</td>\n",
       "      <td>1994.000000</td>\n",
       "      <td>103.898340</td>\n",
       "      <td>73.000000</td>\n",
       "      <td>3.800000e+05</td>\n",
       "      <td>1.379561</td>\n",
       "      <td>103.895637</td>\n",
       "      <td>1.550309</td>\n",
       "      <td>15.478102</td>\n",
       "      <td>24.677444</td>\n",
       "      <td>1.00000</td>\n",
       "    </tr>\n",
       "    <tr>\n",
       "      <th>max</th>\n",
       "      <td>243.000000</td>\n",
       "      <td>1.457071</td>\n",
       "      <td>2016.000000</td>\n",
       "      <td>103.987805</td>\n",
       "      <td>95.000000</td>\n",
       "      <td>1.205000e+06</td>\n",
       "      <td>1.449172</td>\n",
       "      <td>103.949333</td>\n",
       "      <td>11.911096</td>\n",
       "      <td>22.393280</td>\n",
       "      <td>33.696856</td>\n",
       "      <td>1.00000</td>\n",
       "    </tr>\n",
       "  </tbody>\n",
       "</table>\n",
       "</div>"
      ],
      "text/plain": [
       "       floor_area_sqm       latitude  lease_commence_date     longtitude  \\\n",
       "count   795618.000000  795618.000000        795618.000000  795618.000000   \n",
       "mean        95.957137       1.361482          1987.126391     103.839135   \n",
       "std         25.904908       0.041418             9.171724       0.074182   \n",
       "min         31.000000       1.270380          1966.000000     103.685228   \n",
       "25%         73.000000       1.334061          1980.000000     103.772776   \n",
       "50%         93.000000       1.354403          1986.000000     103.842575   \n",
       "75%        115.000000       1.380655          1994.000000     103.898340   \n",
       "max        243.000000       1.457071          2016.000000     103.987805   \n",
       "\n",
       "       remaining_lease  resale_price        mrt_lat       mrt_long  \\\n",
       "count    795618.000000  7.956180e+05  795618.000000  795618.000000   \n",
       "mean         66.126391  2.923675e+05       1.359827     103.837628   \n",
       "std           9.171724  1.463278e+05       0.041605       0.074714   \n",
       "min          45.000000  5.000000e+03       1.283933     103.697322   \n",
       "25%          59.000000  1.820000e+05       1.333279     103.765774   \n",
       "50%          65.000000  2.745000e+05       1.353398     103.846517   \n",
       "75%          73.000000  3.800000e+05       1.379561     103.895637   \n",
       "max          95.000000  1.205000e+06       1.449172     103.949333   \n",
       "\n",
       "            dist_mrt       dist_cbd        dist_ap        mature  \n",
       "count  795618.000000  795618.000000  795618.000000  795618.00000  \n",
       "mean        1.216366      12.088879      17.156694       0.51186  \n",
       "std         0.788059       4.394001       8.275050       0.49986  \n",
       "min         0.039118       0.587376       2.668990       0.00000  \n",
       "25%         0.694575       9.164215      10.506930       0.00000  \n",
       "50%         1.061158      12.728522      16.721602       1.00000  \n",
       "75%         1.550309      15.478102      24.677444       1.00000  \n",
       "max        11.911096      22.393280      33.696856       1.00000  "
      ]
     },
     "execution_count": 96,
     "metadata": {},
     "output_type": "execute_result"
    }
   ],
   "source": [
    "# Check Statistic to Confirm \n",
    "df.describe()"
   ]
  },
  {
   "cell_type": "code",
   "execution_count": 97,
   "metadata": {},
   "outputs": [],
   "source": [
    "# Set Month as index\n",
    "df['month']= pd.to_datetime(df['month'])\n",
    "df.set_index('month', drop= True, inplace= True)"
   ]
  },
  {
   "cell_type": "markdown",
   "metadata": {},
   "source": [
    "# Save CSV of cleaned Data"
   ]
  },
  {
   "cell_type": "code",
   "execution_count": 98,
   "metadata": {},
   "outputs": [],
   "source": [
    "# Save Dataframe to csv\n",
    "df.to_csv('../datasets/resale-flat-prices/clean_resale_price.csv', index = True)"
   ]
  },
  {
   "cell_type": "markdown",
   "metadata": {},
   "source": [
    "Q1) Geo_Spatial Data Analysis will be done in geo_spatial.ipynb"
   ]
  },
  {
   "cell_type": "markdown",
   "metadata": {},
   "source": [
    "Q2) Hedonic Regression Modelling will be done in hdb_price_prediction.ipynb"
   ]
  }
 ],
 "metadata": {
  "kernelspec": {
   "display_name": "Python 3",
   "language": "python",
   "name": "python3"
  },
  "language_info": {
   "codemirror_mode": {
    "name": "ipython",
    "version": 3
   },
   "file_extension": ".py",
   "mimetype": "text/x-python",
   "name": "python",
   "nbconvert_exporter": "python",
   "pygments_lexer": "ipython3",
   "version": "3.7.3"
  },
  "toc": {
   "base_numbering": 1,
   "nav_menu": {},
   "number_sections": true,
   "sideBar": true,
   "skip_h1_title": false,
   "title_cell": "Table of Contents",
   "title_sidebar": "Contents",
   "toc_cell": false,
   "toc_position": {},
   "toc_section_display": true,
   "toc_window_display": false
  },
  "varInspector": {
   "cols": {
    "lenName": 16,
    "lenType": 16,
    "lenVar": 40
   },
   "kernels_config": {
    "python": {
     "delete_cmd_postfix": "",
     "delete_cmd_prefix": "del ",
     "library": "var_list.py",
     "varRefreshCmd": "print(var_dic_list())"
    },
    "r": {
     "delete_cmd_postfix": ") ",
     "delete_cmd_prefix": "rm(",
     "library": "var_list.r",
     "varRefreshCmd": "cat(var_dic_list()) "
    }
   },
   "types_to_exclude": [
    "module",
    "function",
    "builtin_function_or_method",
    "instance",
    "_Feature"
   ],
   "window_display": false
  }
 },
 "nbformat": 4,
 "nbformat_minor": 2
}
